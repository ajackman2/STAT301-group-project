{
 "cells": [
  {
   "cell_type": "markdown",
   "id": "ffb00c0d-e51b-4b47-907c-ff5a57a90667",
   "metadata": {},
   "source": [
    "# Predicting Diabetes Outcome in Female Pima Indians\n",
    "## STAT 301 - Final Group Report\n",
    "#### By Andrea Jackman, Aarya Gokhale, Ethan Dsouza, and Preran Reddy Kopula"
   ]
  },
  {
   "cell_type": "markdown",
   "id": "7b431a4e-6744-4b1d-a557-a6e9d3ba54c8",
   "metadata": {},
   "source": [
    "## Introduction"
   ]
  },
  {
   "cell_type": "markdown",
   "id": "0fabb740-b5f6-470b-af51-d66a27970821",
   "metadata": {},
   "source": [
    "### Overview:\n",
    "Diabetes is a severe health challenge for our species, with significant implications for affected individuals. Diabetes is a common endocrine disease resulting in high blood sugar from an inability to produce insulin. Early diagnosis and interventions are needed to mitigate the long term complications associated with diabetes such as heart disease, kidney damage, and nerve damage. One demographic group with a particularly high prevalence of diabetes is the Pima Indian population.\n",
    "\n",
    "### Data description\n",
    "We use a dataset used sourced by \"whenamancodes\" from the National Institute of Diabetes and Digestive and Kidney Diseases. It is curated to aid in the diagnosis of diabetes among this demographic group. This dataset focuses on female patients of Pima Indian heritage who are at least 21 years old.\n",
    "\n",
    "### Source: \n",
    "Kaggle, https://www.kaggle.com/datasets/whenamancodes/predict-diabities/\n",
    "This data includes a range of diagnostic measurements taken from individuals, which serve as a basis for predicting the presence of diabetes.\n",
    "\n",
    "### Collection\n",
    "The data has been selected from a larger database under specific constraints to provide insights into diabetes occurrence in the selected demographic.\n",
    "\n",
    "### Variable description\n",
    "`Pregnancies` - Number of times pregnant \\\n",
    "`Glucose` - Blood glucose concentration (mmol/L) \\\n",
    "`BloodPressure` - Diastolic blood pressure (mmHg) \\\n",
    "`SkinThickness` - Skin fold thickness (mm) \\\n",
    "`Insulin` - insulin levels in the body (mIU/L) \\\n",
    "`BMI` - Body mass index (kg/$m^2$) \\\n",
    "`DiabetesPedigreeFunction` - Diabetes pedigree function (the probability of developing diabetes based on family history) \\\n",
    "`Age` - years alive \\\n",
    "`Outcome` - Class variable (0 or 1)\n",
    "\n",
    "All the variables are of numeric data type\n",
    "\n",
    "### Target Variable\n",
    "Outcome:\n",
    "\n",
    "Indicates whether the patient has diabetes (1) or not (0).\n",
    "The dependent variable used for model prediction.\n",
    "Considerations\n",
    "We are including all the variables for the initial exploratory data analysis, certain variables may have more significance in modeling based on their correlations and impact on the outcome. The process involves evaluating each variable's contribution to the predictive model and making informed decisions about which variables to include for optimal performance.\n",
    "\n",
    "### Questions we want to explore\n",
    "- Can a predictive model be built to classify the outcome of diabetes given clinical data about a patient?\n",
    "- What clinical predictors contribute most to a model that can make these predictions?\n",
    "\n",
    "\n",
    "### Variables Involved\n",
    "Response Variable: Outcome\n",
    "Explanatory Variables: Chosen based on feature selection\n",
    "The motive of our study is to build a model that can accurately predict whether an individual has diabetes or will develop diabetes. By addressing this, this research contributes to understanding of the risk factors of diabetes and aid in diabetes diagnosis. Existing literature provides us with a foundation for this analysis. For instance:\n",
    "\n",
    "BMI and Diabetes Risk Across Ethnic Groups\n",
    "\n",
    "1) A study published in The Lancet Diabetes & Endocrinology examined the association between BMI and the risk of type 2 diabetes across various ethnic groups in England. The research found that the BMI threshold for increased diabetes risk varies significantly among different ethnic populations. For instance, South Asian individuals exhibited a higher diabetes risk at lower BMI levels compared to White populations. This highlights the importance of considering ethnic-specific BMI cutoffs when assessing diabetes risk.\n",
    "\n",
    "Interaction Effects in Logistic Regression Models for Health Outcomes\n",
    "\n",
    "2) An article in the International Journal of Radiation Oncology discussed the importance of including interaction terms in logistic regression models to accurately capture the combined effects of multiple variables on health outcomes. The study emphasized that failing to account for interactions can lead to misleading conclusions, as the effect of one predictor may depend on the level of another. This highlights the importance of exploring interaction effects to fully understand the relationships between risk factors and health conditions."
   ]
  },
  {
   "cell_type": "markdown",
   "id": "797baf89-cc52-4026-a560-eee0e18688d3",
   "metadata": {},
   "source": [
    "## Exploratory Data Analysis"
   ]
  },
  {
   "cell_type": "markdown",
   "id": "515941c4-3ff6-482e-be38-b33a3ff4fc86",
   "metadata": {},
   "source": [
    "### Library Imports"
   ]
  },
  {
   "cell_type": "code",
   "execution_count": 1,
   "id": "4037e88d-71b7-47bb-b75b-8d573fdc51b3",
   "metadata": {},
   "outputs": [
    {
     "name": "stderr",
     "output_type": "stream",
     "text": [
      "Type 'citation(\"pROC\")' for a citation.\n",
      "\n",
      "\n",
      "Attaching package: ‘pROC’\n",
      "\n",
      "\n",
      "The following objects are masked from ‘package:stats’:\n",
      "\n",
      "    cov, smooth, var\n",
      "\n",
      "\n",
      "── \u001b[1mAttaching core tidyverse packages\u001b[22m ──────────────────────── tidyverse 2.0.0 ──\n",
      "\u001b[32m✔\u001b[39m \u001b[34mdplyr    \u001b[39m 1.1.4     \u001b[32m✔\u001b[39m \u001b[34mreadr    \u001b[39m 2.1.5\n",
      "\u001b[32m✔\u001b[39m \u001b[34mforcats  \u001b[39m 1.0.0     \u001b[32m✔\u001b[39m \u001b[34mstringr  \u001b[39m 1.5.1\n",
      "\u001b[32m✔\u001b[39m \u001b[34mggplot2  \u001b[39m 3.5.1     \u001b[32m✔\u001b[39m \u001b[34mtibble   \u001b[39m 3.2.1\n",
      "\u001b[32m✔\u001b[39m \u001b[34mlubridate\u001b[39m 1.9.3     \u001b[32m✔\u001b[39m \u001b[34mtidyr    \u001b[39m 1.3.1\n",
      "\u001b[32m✔\u001b[39m \u001b[34mpurrr    \u001b[39m 1.0.2     \n",
      "── \u001b[1mConflicts\u001b[22m ────────────────────────────────────────── tidyverse_conflicts() ──\n",
      "\u001b[31m✖\u001b[39m \u001b[34mdplyr\u001b[39m::\u001b[32mfilter()\u001b[39m    masks \u001b[34mstats\u001b[39m::filter()\n",
      "\u001b[31m✖\u001b[39m \u001b[34mdplyr\u001b[39m::\u001b[32mlag()\u001b[39m       masks \u001b[34mstats\u001b[39m::lag()\n",
      "\u001b[31m✖\u001b[39m \u001b[34mlubridate\u001b[39m::\u001b[32mstamp()\u001b[39m masks \u001b[34mcowplot\u001b[39m::stamp()\n",
      "\u001b[36mℹ\u001b[39m Use the conflicted package (\u001b[3m\u001b[34m<http://conflicted.r-lib.org/>\u001b[39m\u001b[23m) to force all conflicts to become errors\n",
      "Registered S3 method overwritten by 'GGally':\n",
      "  method from   \n",
      "  +.gg   ggplot2\n",
      "\n",
      "\n",
      "Attaching package: ‘broom’\n",
      "\n",
      "\n",
      "The following object is masked from ‘package:modelr’:\n",
      "\n",
      "    bootstrap\n",
      "\n",
      "\n",
      "Loading required package: carData\n",
      "\n",
      "\n",
      "Attaching package: ‘car’\n",
      "\n",
      "\n",
      "The following object is masked from ‘package:dplyr’:\n",
      "\n",
      "    recode\n",
      "\n",
      "\n",
      "The following object is masked from ‘package:purrr’:\n",
      "\n",
      "    some\n",
      "\n",
      "\n"
     ]
    },
    {
     "ename": "ERROR",
     "evalue": "Error in library(DHARMa): there is no package called ‘DHARMa’\n",
     "output_type": "error",
     "traceback": [
      "Error in library(DHARMa): there is no package called ‘DHARMa’\nTraceback:\n",
      "1. library(DHARMa)"
     ]
    }
   ],
   "source": [
    "# library imports\n",
    "library(infer)\n",
    "library(cowplot)\n",
    "library(modelr)\n",
    "library(pROC)\n",
    "library(knitr)\n",
    "library(tidyverse)\n",
    "library(GGally)\n",
    "library(repr)\n",
    "library(broom)\n",
    "library(leaps)\n",
    "library(broom)\n",
    "library(car)\n",
    "library(DHARMa)\n",
    "library(stats)\n",
    "library(patchwork)\n",
    "library(gridExtra)"
   ]
  },
  {
   "cell_type": "markdown",
   "id": "10f0f04c-5d71-4101-8e00-0e62da253df7",
   "metadata": {},
   "source": [
    "### Reading in the data"
   ]
  },
  {
   "cell_type": "markdown",
   "id": "32831f6f-fd9a-488c-aa99-d4397520a862",
   "metadata": {},
   "source": [
    "The diabetes dataset was first loaded into Jupyter using read.csv. It was already in tidy format, so we did not need to do any transformations. We visualized the number of observations in each Outcome class with a table. This demonstrated that our data was imbalanced as there were 500 individuals without diabetes compared to 268 individuals with diabetes. We looked at the distribution of each variable with the summary() function, here we noticed a high concentration of zero values. "
   ]
  },
  {
   "cell_type": "code",
   "execution_count": null,
   "id": "c4719900-de26-438c-b6b9-f2585bdca455",
   "metadata": {},
   "outputs": [],
   "source": [
    "# Read the data in\n",
    "# Main developer: Andrea, Aarya, Ethan, Preran\n",
    "\n",
    "diabetes_data <- read.csv('data/diabetes.csv')\n",
    "head(diabetes_data, 6)\n",
    "# the data is in tidy format already"
   ]
  },
  {
   "cell_type": "markdown",
   "id": "bae878d6-48ea-43f1-8454-034628af3d94",
   "metadata": {},
   "source": [
    "### Summary Statistics"
   ]
  },
  {
   "cell_type": "code",
   "execution_count": null,
   "id": "2ed39cf4-1bac-4578-a034-734ff2323fa1",
   "metadata": {},
   "outputs": [],
   "source": [
    "# Main developer: Andrea, Ethan\n",
    "# Contributor: Aarya, Preran\n",
    "\n",
    "outcome_counts = diabetes_data |>\n",
    "    count(Outcome)\n",
    "outcome_counts"
   ]
  },
  {
   "cell_type": "code",
   "execution_count": null,
   "id": "c25e2d9f-bb5f-41cc-8ac6-5e314203e98f",
   "metadata": {},
   "outputs": [],
   "source": [
    "summary(diabetes_data)"
   ]
  },
  {
   "cell_type": "markdown",
   "id": "c6851106-9966-485b-a20e-fd8274bf50dd",
   "metadata": {},
   "source": [
    "### Data Cleaning"
   ]
  },
  {
   "cell_type": "markdown",
   "id": "8e6011f3-8e48-4bf3-b3dd-9610e111d0d6",
   "metadata": {},
   "source": [
    "We further investigated the zero values by counting the number of zeros in each column. We then removed zeros where they did not make sense (BMI, glucose, and blood pressure). We removed the SkinThickness column as it had almost 30% (227/768) zeros which would have substantially decreased our sample size if cleaned. For the Glucose, BMI, and BloodPressure columns, since the number of 0 values were not too high, these values were removed from the dataset."
   ]
  },
  {
   "cell_type": "code",
   "execution_count": null,
   "id": "f9e486f5-3d05-4197-9bb7-8177985d1f62",
   "metadata": {},
   "outputs": [],
   "source": [
    "# Main developer: Andrea, Preran\n",
    "# Contributor: Aarya, Ethan\n",
    "\n",
    "# summarize the data which may be missing\n",
    "zero_counts <- sapply(diabetes_data[, -which(names(diabetes_data) == \"Outcome\")], function(x) sum(x == 0))\n",
    "zero_counts"
   ]
  },
  {
   "cell_type": "code",
   "execution_count": null,
   "id": "fe236220-db31-4997-9c58-045f9e0a0ed4",
   "metadata": {},
   "outputs": [],
   "source": [
    "# Main developer: Andrea, Preran\n",
    "# Contributor: Aarya, Ethan\n",
    "\n",
    "# need to get rid of the missing values\n",
    "diabetes_data_clean <- diabetes_data %>%\n",
    "  select(-SkinThickness) %>% # drop this column because it has too many null values\n",
    "  filter(Glucose != 0 & BloodPressure != 0 & BMI != 0)\n",
    "\n",
    "# summarize the new data sizes\n",
    "dim(diabetes_data_clean) # not too much of a decrease\n",
    "dim(diabetes_data)"
   ]
  },
  {
   "cell_type": "markdown",
   "id": "4d4c6310-01e9-4e21-b617-d50ef9b3a235",
   "metadata": {},
   "source": [
    "Before making some preliminary visualizations we converted Outcome to a factor."
   ]
  },
  {
   "cell_type": "code",
   "execution_count": null,
   "id": "698316f1-d23c-48b8-8594-6e4bf4f11f5f",
   "metadata": {},
   "outputs": [],
   "source": [
    "# Main Contributor: Preran\n",
    "diabetes_data_clean <- diabetes_data_clean %>%\n",
    "  mutate(Outcome = as.factor(Outcome))\n",
    "\n",
    "head(diabetes_data)"
   ]
  },
  {
   "cell_type": "markdown",
   "id": "8b690c7e-355b-4097-b7d4-b0688a109d2e",
   "metadata": {},
   "source": [
    "### Summary Visualizations"
   ]
  },
  {
   "cell_type": "markdown",
   "id": "f59ecaf7-48c6-42ec-814e-541b1446a21a",
   "metadata": {},
   "source": [
    "Then, we visualized variable distributions and correlations with ggpairs(). Furthermore, we made boxplots for each variable for individuals with and without diabetes to further investigate suitable predictors."
   ]
  },
  {
   "cell_type": "code",
   "execution_count": null,
   "id": "bb88163e-9672-4ca9-9352-78ba04bd1356",
   "metadata": {},
   "outputs": [],
   "source": [
    "# Main developer: Preran\n",
    "# Contributor: Ethan, Andrea, Aarya\n",
    "\n",
    "options(repr.plot.width = 15, repr.plot.height = 15)\n",
    "ggpairs(diabetes_data_clean, \n",
    "        aes(color = factor(Outcome)), \n",
    "        diag = list(continuous = wrap(\"barDiag\"))\n",
    "       )"
   ]
  },
  {
   "cell_type": "code",
   "execution_count": null,
   "id": "028f2d9c-b234-45d5-acf0-453377818727",
   "metadata": {},
   "outputs": [],
   "source": [
    "# Main developer: Ethan, Andrea\n",
    "# Contributor: Aarya, Preran\n",
    "\n",
    "# set the dimensions of the plot\n",
    "options(repr.plot.width = 30, repr.plot.height = 15)\n",
    "\n",
    "plot1 <- ggplot(diabetes_data_clean, aes(x = factor(Outcome), y = BMI, fill = factor(Outcome))) +\n",
    "  geom_boxplot() +\n",
    "  labs(title = \"BMI by Diabetes Outcome\", x = \"Diabetes Outcome\", y = \"BMI\") +\n",
    "  theme_minimal()\n",
    "\n",
    "plot2 <- ggplot(diabetes_data_clean, aes(x = factor(Outcome), y = Glucose, fill = factor(Outcome))) +\n",
    "  geom_boxplot() +\n",
    "  labs(title = \"Glucose by Diabetes Outcome\", x = \"Diabetes Outcome\", y = \"Glucose Blood Level (in Glucose)\") +\n",
    "  theme_minimal()\n",
    "\n",
    "plot3 <- ggplot(diabetes_data_clean, aes(x = factor(Outcome), y = Insulin, fill = factor(Outcome))) +\n",
    "  geom_boxplot() +\n",
    "  labs(title = \"Insulin Level by Diabetes Outcome\", x = \"Diabetes Outcome\", y = \"Insulin Level in Blood\") +\n",
    "  theme_minimal()\n",
    "\n",
    "plot4 <- ggplot(diabetes_data_clean, aes(x = factor(Outcome), y = Pregnancies, fill = factor(Outcome))) +\n",
    "  geom_boxplot() +\n",
    "  labs(title = \"Pregnancies by Diabetes Outcome\", x = \"Diabetes Outcome\", y = \"Pregnancies\") +\n",
    "  theme_minimal()\n",
    "\n",
    "plot5 <- ggplot(diabetes_data_clean, aes(x = factor(Outcome), y = Age, fill = factor(Outcome))) +\n",
    "  geom_boxplot() +\n",
    "  labs(title = \"Age by Diabetes Outcome\", x = \"Diabetes Outcome\", y = \"Age (in Years)\") +\n",
    "  theme_minimal()\n",
    "\n",
    "plot6 <- ggplot(diabetes_data_clean, aes(x = factor(Outcome), y = DiabetesPedigreeFunction, fill = factor(Outcome))) +\n",
    "  geom_boxplot() +\n",
    "  labs(title = \"Diabetes Pedigree Function \\n by Diabetes Outcome\", x = \"Diabetes Outcome\", y = \"Age (in Years)\") +\n",
    "  theme_minimal()\n",
    "\n",
    "plot7 <- ggplot(diabetes_data_clean, aes(x = factor(Outcome), y = BloodPressure, fill = factor(Outcome))) +\n",
    "  geom_boxplot() +\n",
    "  labs(title = \"Blood Pressure by Diabetes \\n Outcome\", x = \"Diabetes Outcome\", y = \"Age (in Years)\") +\n",
    "  theme_minimal()\n",
    "\n",
    "# Combine plots in one row\n",
    "combined_plot <- plot1 + plot2 + plot3 + plot4 + plot5 + plot6 + plot7 + plot_layout(nrow = 1)\n",
    "\n",
    "# Display combined plot\n",
    "combined_plot"
   ]
  },
  {
   "cell_type": "markdown",
   "id": "60f1ae2a-e7c3-46f6-a721-209f2fad5309",
   "metadata": {},
   "source": [
    "### Preliminary Model"
   ]
  },
  {
   "cell_type": "markdown",
   "id": "74d2ff66-d637-45cc-aae5-199b5c897c79",
   "metadata": {},
   "source": [
    "Lastly, we made a preliminary model with all the explanatory variables and visualized how the model predictions changed with the variable. This provided some insight into the relationships between the explanatory variables and the outcome before we performed feature selection. We chose to use a multivariate logistic regression model. \n",
    "This is an appropriate method for several reasons. The outcome variable is binary, requiring a method like logistic regression to estimate the probability of a particular class (diabetes diagnosis). Logistic regression provides interpretable coefficients that quantify the relationship between predictors (e.g., glucose levels, BMI) and the log-odds of diabetes. This model assumes a linear relationship between the predictors and the log-odds, aligning well with exploratory findings (e.g., strong positive correlations observed between glucose, BMI, and diabetes outcomes).Beyond prediction, logistic regression identifies significant predictors and their impact, enhancing our understanding of key risk factors for diabetes."
   ]
  },
  {
   "cell_type": "code",
   "execution_count": null,
   "id": "1261e211-2494-4d01-954e-55d2f54f6e38",
   "metadata": {},
   "outputs": [],
   "source": [
    "# Main developer: Andrea\n",
    "# Contributor: Preran, Aarya, Ethan\n",
    "\n",
    "model <- glm(Outcome ~ Age + Pregnancies + Glucose + BloodPressure + Insulin + BMI + DiabetesPedigreeFunction, data = diabetes_data_clean, family = \"binomial\")\n",
    "diabetes_data_clean$predicted_prob <- predict(model, type = \"response\")\n",
    "\n",
    "# variables to plot\n",
    "variables <- c(\"Age\", \"Pregnancies\", \"Glucose\", \"BloodPressure\", \"Insulin\", \"BMI\", \"DiabetesPedigreeFunction\")\n",
    "\n",
    "# list to store the plots\n",
    "plots <- list()\n",
    "\n",
    "# loop and generate a plot for each variable\n",
    "for (var in variables) {\n",
    "  plot <- ggplot(diabetes_data_clean, aes_string(x = var, y = \"predicted_prob\")) +\n",
    "    geom_point(aes(color = as.factor(Outcome)), alpha = 0.6) +\n",
    "    geom_smooth(method = \"loess\", color = \"black\") +\n",
    "    theme(plot.title = element_text(size = 24, face = \"bold\"),\n",
    "          axis.title = element_text(size = 18),\n",
    "          axis.text = element_text(size = 16),\n",
    "          legend.title = element_text(size = 18),\n",
    "          legend.text = element_text(size = 16)) +\n",
    "    scale_color_manual(values = c(\"blue\", \"orange\"),\n",
    "                       labels = c(\"No Diabetes\", \"Diabetes\"),\n",
    "                       name = \"Diabetes Outcome\") +\n",
    "    labs(title = paste(\"Predicted Probability vs.\", var),\n",
    "         x = var, y = \"Predicted Probability\")\n",
    "  \n",
    "  # Add the plot to the list\n",
    "  plots[[var]] <- plot\n",
    "}\n",
    "\n",
    "# plot\n",
    "do.call(grid.arrange, c(plots, nrow = 2))"
   ]
  },
  {
   "cell_type": "markdown",
   "id": "e0e02a47-fb60-41d3-ac6c-236780fc72e1",
   "metadata": {},
   "source": [
    "## Methods"
   ]
  },
  {
   "cell_type": "markdown",
   "id": "9526f0bd-83ee-4099-8900-ab627170e63d",
   "metadata": {},
   "source": [
    "### Train/Test Splitting"
   ]
  },
  {
   "cell_type": "markdown",
   "id": "1771826c-6054-498d-9904-c13e6aeed5e4",
   "metadata": {},
   "source": [
    "Using the clean dataset, training and testing sub datasets were created."
   ]
  },
  {
   "cell_type": "code",
   "execution_count": null,
   "id": "f379dcfb-40f3-4af4-b49b-818444e00dae",
   "metadata": {},
   "outputs": [],
   "source": [
    "# Main developer: Aarya, Preran\n",
    "\n",
    "train_indices <- sample(seq_len(nrow(diabetes_data_clean)), size = 0.8 * nrow(diabetes_data_clean))\n",
    "train_data <- diabetes_data_clean[train_indices, ]\n",
    "test_data <- diabetes_data_clean[-train_indices, ]"
   ]
  },
  {
   "cell_type": "markdown",
   "id": "20c46a5b-f242-4086-95d9-b87d4530dc53",
   "metadata": {},
   "source": [
    "### Feature Selection"
   ]
  },
  {
   "cell_type": "markdown",
   "id": "a5b89eb3-db37-4bca-9f9c-ccc3355be381",
   "metadata": {},
   "source": [
    "Due to the high number of variables, an additive model was generated. Using backward selection, 3 potential models were generated (see below)."
   ]
  },
  {
   "cell_type": "code",
   "execution_count": null,
   "id": "e275c3a7-0070-43b3-9a53-6b06439b1e43",
   "metadata": {},
   "outputs": [],
   "source": [
    "# Main developer: Aarya, Andrea, \n",
    "# Contributor: Preran, Ethan\n",
    "\n",
    "model_add <- glm(formula = Outcome ~ Age + Pregnancies + Glucose + BloodPressure + Insulin + BMI + DiabetesPedigreeFunction,\n",
    "      data = train_data,\n",
    "      family = binomial)\n",
    "\n",
    "# use step to do backward selection\n",
    "backward_selection <- step(model_add, direction = \"backward\")\n",
    "\n",
    "summary(backward_selection)"
   ]
  },
  {
   "cell_type": "markdown",
   "id": "d45533b0-6719-44df-85d0-95c54ddb45e8",
   "metadata": {},
   "source": [
    "The AIC values for all models were very close. They were within 2 points to each other indicating there was no significant difference in fit between the models. Therefore, the model options given by backwards selection were all similar and there was no metric for choosing one over the other. We decided to choose the model with the most amount of variables in order to see how Outcome was affected by a majority of the variables."
   ]
  },
  {
   "cell_type": "markdown",
   "id": "3df4ee21-b394-4a8a-a0f3-4df2952757aa",
   "metadata": {},
   "source": [
    "### Model"
   ]
  },
  {
   "cell_type": "code",
   "execution_count": null,
   "id": "48ab6c78-44cf-4e20-9bfd-fde3cb6a6c0f",
   "metadata": {},
   "outputs": [],
   "source": [
    "# Main developer: Aarya, Andrea \n",
    "# Contributor: Preran, Ethan\n",
    "\n",
    "backward_model <- glm (Outcome ~ Age + Pregnancies + Glucose + Insulin + BMI + DiabetesPedigreeFunction,\n",
    "                      data = train_data,\n",
    "                      family = binomial)\n",
    "\n",
    "backward_model"
   ]
  },
  {
   "cell_type": "markdown",
   "id": "ee4b395e-aa61-419b-8f30-e5b2c426f5f6",
   "metadata": {},
   "source": [
    "### Model Accuracy"
   ]
  },
  {
   "cell_type": "markdown",
   "id": "d7011ddd-be0e-4dd3-8bd9-fff30a460bbe",
   "metadata": {},
   "source": [
    "To determine the model’s accuracy, the testing data was used to calculate the predicted probability and the predicted class for each value. Class was either 0 or 1, no predicted diabetes or presence of predicted diabetes, respectively. A confusion matrix using the predicted and actual classes was generated as well as the percentage of accuracy of the model. The model was calculated to be 75.86 % accurate. Lastly, the model’s accuracy was determined using an additional metric with an ROC curve. "
   ]
  },
  {
   "cell_type": "code",
   "execution_count": null,
   "id": "efbcf51a-ad47-4019-a3cf-f237822992bb",
   "metadata": {},
   "outputs": [],
   "source": [
    "# Main developer: Aarya\n",
    "# Contributor: Preran\n",
    "predicted_prob = predict(backward_model, newdata = test_data, type = \"response\")\n",
    "predicted_class = ifelse(predicted_prob > 0.5, 1, 0)"
   ]
  },
  {
   "cell_type": "code",
   "execution_count": null,
   "id": "c753b24a-137d-4c5e-9a04-c2b232760c69",
   "metadata": {},
   "outputs": [],
   "source": [
    "# Main developer: Aarya, Preran\n",
    "conf_matrix <- table(Predicted = predicted_class, Actual = test_data$Outcome) \n",
    "accuracy <- mean (predicted_class == test_data$Outcome)\n",
    "roc_curve <- roc (response = test_data$Outcome,\n",
    "                  predictor = predicted_prob)\n",
    "\n",
    "\n",
    "tidy(conf_matrix)\n",
    "accuracy"
   ]
  },
  {
   "cell_type": "markdown",
   "id": "16003b11-1432-479b-89c4-31e4f88d616d",
   "metadata": {},
   "source": [
    "**Table 1.** Confusion matrix for model predictions."
   ]
  },
  {
   "cell_type": "code",
   "execution_count": null,
   "id": "24240a20-22cc-4d37-a0ed-13345c68fd8a",
   "metadata": {},
   "outputs": [],
   "source": [
    "plot(roc_curve,\n",
    "  print.auc = TRUE, col = \"blue\", lwd = 3, lty = 2,\n",
    "  main = \"ROC Curve for Backward Selected Model\"\n",
    ")"
   ]
  },
  {
   "cell_type": "markdown",
   "id": "ef92f096-e0d6-4096-8cc4-cebb3ecae137",
   "metadata": {},
   "source": [
    "**Figure 1.** ROC curve for the model."
   ]
  },
  {
   "cell_type": "markdown",
   "id": "cadb4a60-c91b-4081-9b30-489ba42e9194",
   "metadata": {},
   "source": [
    "## Discussion"
   ]
  },
  {
   "cell_type": "markdown",
   "id": "24b1df70-4586-4780-86bc-aa4366114c1b",
   "metadata": {},
   "source": [
    "The goal of this project was to determine whether a predictive model could classify individuals as having diabetes (Outcome = 1) or not (Outcome = 0) based on a set of clinical variables. Using a logistic regression model with backward selection, we achieved an accuracy of 76.55%, indicating moderate success in predicting diabetes status. The ROC curve analysis further validated the model's performance, providing additional confidence in its predictive capabilities.\n",
    "\n",
    "### Key Findings and Implications\n",
    "\n",
    "Our final model retained six key predictors: Age, Pregnancies, Glucose, BMI, Insulin, and Diabetes Pedigree Function. The model achieved an accuracy of 76.55%, indicating moderate success in predicting diabetes status. As expected, Glucose levels, BMI, and Diabetes Pedigree Function were strong predictors of diabetes, aligning with existing medical research that identifies these factors as significant contributors to diabetes risk. The inclusion of Pregnancies suggests a possible relationship with gestational diabetes or other pregnancy-related factors. Age, although less significant (p = 0.128), was retained in the model, potentially indicating a trend. \n",
    "\n",
    "The inclusion of Insulin in the model highlights its importance in providing meaningful information about an individual's diabetes risk. However, the small effect size (negative coefficient) of Insulin in the model may reflect nuances in how Insulin interacts with other variables or potentially measurement issues in the dataset. Further investigation could clarify this relationship.\n",
    "\n",
    "### Were Results as Expected?\n",
    "\n",
    "The findings largely matched our expectations. Age, Glucose and BMI were anticipated to be strong predictors, given their established links to diabetes. However, the lower significance of Blood Pressure and Insulin in the final model were somewhat surprising, given their theoretical relevance to diabetes risk. This may be due to the high proportion of missing or zero values for Insulin in the dataset. \n",
    "\n",
    "The high false negative rate (48.9%) was unexpected and could result in individuals making misguided decisions about seeking professional help. Therefore, these results should only be used by certified professionals as a supplementary tool to complement their existing practices.\n",
    "\n",
    "### Model Improvement\n",
    "\n",
    "While the model's accuracy is reasonable, we came up with the following to enhance its performance:\n",
    "\n",
    "- **Address Data Imbalance:** The dataset was imbalanced, with significantly fewer cases of diabetes (Outcome = 1). Using techniques such as oversampling, undersampling, or SMOTE (Synthetic Minority Oversampling Technique) could improve the model's sensitivity to diabetic cases.\n",
    "- **Feature Engineering:** Additional variables or transformations of existing variables, such as interaction terms or polynomial features, might capture more nuanced relationships in the data.\n",
    "- **Regularization Techniques:** Applying Lasso or Ridge regression could help address multicollinearity and improve model robustness.\n",
    "\n",
    "### Future Research Directions\n",
    "\n",
    "- Combining this dataset with other clinical datasets or incorporating genetic information could improve predictive power.\n",
    "- Machine learning techniques, such as Random Forests or Gradient Boosting Machines, may capture complex patterns that a logistic regression model cannot.\n",
    "- Investigating why some variables, such as Insulin and SkinThickness, have many zero values could inform better data collection practices."
   ]
  },
  {
   "cell_type": "markdown",
   "id": "ab3ae7ce-3996-4c39-bbcd-b1b0bfa20468",
   "metadata": {},
   "source": [
    "## References"
   ]
  },
  {
   "cell_type": "markdown",
   "id": "9b453ef3-45bf-4460-af59-f68b4feddb28",
   "metadata": {},
   "source": [
    "1. Caleyachetty, R., Barber, T. M., Mohammed, N. I., Cappuccio, F. P., Hardy, R., Mathur, R., … Gill, P. (2021). Ethnicity-specific BMI cutoffs for obesity based on type 2 diabetes risk in England: a population-based cohort study. The Lancet Diabetes & Endocrinology, 9(7), 419–426. doi:10.1016/S2213-8587(21)00088-7\n",
    "\n",
    "2. Zabor, E. C., Reddy, C. A., Tendulkar, R. D., & Patil, S. (2022). Logistic Regression in Clinical Studies. International Journal of Radiation Oncology, Biology, Physics, 112(2), 271–277. doi:10.1016/j.ijrobp.2021.08.007"
   ]
  },
  {
   "cell_type": "code",
   "execution_count": null,
   "id": "92956d88-a124-49e8-a736-505786d59daa",
   "metadata": {},
   "outputs": [],
   "source": []
  }
 ],
 "metadata": {
  "kernelspec": {
   "display_name": "R",
   "language": "R",
   "name": "ir"
  },
  "language_info": {
   "codemirror_mode": "r",
   "file_extension": ".r",
   "mimetype": "text/x-r-source",
   "name": "R",
   "pygments_lexer": "r",
   "version": "4.3.3"
  }
 },
 "nbformat": 4,
 "nbformat_minor": 5
}

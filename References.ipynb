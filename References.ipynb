{
 "cells": [
  {
   "cell_type": "markdown",
   "id": "bc621832-c311-4ecd-84d3-7505cd8cbf63",
   "metadata": {},
   "source": [
    "# References\n",
    "\n",
    "1. Caleyachetty, R., Barber, T. M., Mohammed, N. I., Cappuccio, F. P., Hardy, R., Mathur, R., … Gill, P. (2021). Ethnicity-specific BMI cutoffs for obesity based on type 2 diabetes risk in England: a population-based cohort study. The Lancet Diabetes & Endocrinology, 9(7), 419–426. doi:10.1016/S2213-8587(21)00088-7\n",
    "\n",
    "2. Zabor, E. C., Reddy, C. A., Tendulkar, R. D., & Patil, S. (2022). Logistic Regression in Clinical Studies. International Journal of Radiation Oncology, Biology, Physics, 112(2), 271–277. doi:10.1016/j.ijrobp.2021.08.007"
   ]
  }
 ],
 "metadata": {
  "kernelspec": {
   "display_name": "R",
   "language": "R",
   "name": "ir"
  },
  "language_info": {
   "codemirror_mode": "r",
   "file_extension": ".r",
   "mimetype": "text/x-r-source",
   "name": "R",
   "pygments_lexer": "r",
   "version": "4.3.3"
  }
 },
 "nbformat": 4,
 "nbformat_minor": 5
}
